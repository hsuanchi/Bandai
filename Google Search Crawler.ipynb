{
 "cells": [
  {
   "cell_type": "code",
   "execution_count": 66,
   "metadata": {},
   "outputs": [],
   "source": [
    "import time\n",
    "import random\n",
    "from bs4 import BeautifulSoup\n",
    "import requests\n",
    "import pandas as pd\n",
    "\n",
    "\n",
    "def google_search(input_keyword_def,page_def):\n",
    "    ckeck_list = []\n",
    "    pList = []\n",
    "\n",
    "    # for迴圈放入關鍵字\n",
    "    for key in input_keyword_def:\n",
    "        #for迴圈頁面\n",
    "        for page_number in range(page_def):\n",
    "            \n",
    "            \n",
    "            # 設定隨機使用IP\n",
    "            ip_pool = [\n",
    "                '119.98.44.192:8118',\n",
    "                '111.198.219.151:8118',\n",
    "                '101.86.86.101:8118',\n",
    "                    ]\n",
    "            proxies=ip_proxy(ip_pool)\n",
    "\n",
    "            # 設定使用瀏覽器\n",
    "            USER_AGENT = {\n",
    "                'User-Agent': 'Mozilla/5.0 (Windows NT 10.0; Win64; x64) AppleWebKit/537.36 (KHTML, like Gecko) Chrome/61.0.3163.100 Safari/537.36'}\n",
    "\n",
    "            \n",
    "            # 爬取url的頁面設定\n",
    "            page = 0 + (10 * (page_number - 1))\n",
    "            url = \"https://www.google.com.tw/search?q=\" + key + \"&start=\" + str(page)\n",
    "            print(\"爬取關鍵字：\" + str(key) + \",第\" + str(page_number + 1) + \"頁\",\"此次使用的ip\", proxies)\n",
    "            time.sleep(random.randrange(1, 3))\n",
    "            res = requests.get(url, headers=USER_AGENT, proxies=proxies)\n",
    "            soup = BeautifulSoup(res.text, \"html.parser\")\n",
    "            \n",
    "            # 爬取資料\n",
    "            ad_sort = 0\n",
    "            \n",
    "            if len(soup.select('.ads-ad'))== 0:\n",
    "                print(\"無廣告頁面\")\n",
    "            \n",
    "            else:\n",
    "\n",
    "                for item in soup.select('.ads-ad'):\n",
    "                    ad_sort += 1\n",
    "                    ad_title = item.select('a')[1].text.replace(\"\\u200e\", \"\")\n",
    "                    ad_text = item.select('.ads-creative')[0].text\n",
    "                    print(\"第\" + str(ad_sort) + \"則\")\n",
    "                    if ad_title not in ckeck_list:\n",
    "                        ckeck_list.append(ad_title)\n",
    "                        pList.append([\n",
    "                            key, ad_title, ad_text, str(page_number + 1) + \"-\" + str(ad_sort)\n",
    "                        ])\n",
    "\n",
    "                    else:\n",
    "                        print('重複的廣告')\n",
    "\n",
    "    df = pd.DataFrame(pList)\n",
    "    df.columns = ['關鍵字', '廣告標題', '廣告文案', '頁數-排序']\n",
    "    df.to_csv('~/Desktop/Result.csv', index=False)\n",
    "    print(\"-----------------------\")\n",
    "    print(\"Done! 檔案已存入桌面\")\n",
    "    return df\n",
    "\n",
    "\n",
    "def ip_proxy(ip_pool):\n",
    "    ip = ip_pool[random.randrange(0,3)]\n",
    "    proxy_ip = 'http://'+ip\n",
    "    proxies = {'http':proxy_ip}\n",
    "    return proxies"
   ]
  },
  {
   "cell_type": "code",
   "execution_count": 67,
   "metadata": {},
   "outputs": [
    {
     "name": "stdin",
     "output_type": "stream",
     "text": [
      "輸入查詢關鍵字，須用逗號隔開(例如：投放,廣告操作) 關鍵字廣告\n",
      "要爬取的頁數 3\n"
     ]
    },
    {
     "name": "stdout",
     "output_type": "stream",
     "text": [
      "爬取關鍵字：關鍵字廣告,第1頁 此次使用的ip {'http': 'http://101.86.86.101:8118'}\n",
      "第1則\n",
      "第2則\n",
      "爬取關鍵字：關鍵字廣告,第2頁 此次使用的ip {'http': 'http://101.86.86.101:8118'}\n",
      "第1則\n",
      "第2則\n",
      "重複的廣告\n",
      "第3則\n",
      "爬取關鍵字：關鍵字廣告,第3頁 此次使用的ip {'http': 'http://111.198.219.151:8118'}\n",
      "第1則\n",
      "重複的廣告\n",
      "第2則\n",
      "-----------------------\n",
      "Done! 檔案已存入桌面\n"
     ]
    }
   ],
   "source": [
    "def main():\n",
    "    \n",
    "    # 設定輸入關鍵字\n",
    "    input_keyword = [str(x) for x in input(\"輸入查詢關鍵字，須用逗號隔開(例如：投放,廣告操作)\").split(\",\")]\n",
    "    \n",
    "    # 設定爬取頁數\n",
    "    page = int(input(\"要爬取的頁數\"))\n",
    "    \n",
    "    \n",
    "    google_search(input_keyword,page)\n",
    "\n",
    "if __name__ == '__main__':\n",
    "    main()\n",
    "    "
   ]
  },
  {
   "cell_type": "code",
   "execution_count": null,
   "metadata": {},
   "outputs": [],
   "source": []
  }
 ],
 "metadata": {
  "kernelspec": {
   "display_name": "Python 3",
   "language": "python",
   "name": "python3"
  },
  "language_info": {
   "codemirror_mode": {
    "name": "ipython",
    "version": 3
   },
   "file_extension": ".py",
   "mimetype": "text/x-python",
   "name": "python",
   "nbconvert_exporter": "python",
   "pygments_lexer": "ipython3",
   "version": "3.6.6"
  }
 },
 "nbformat": 4,
 "nbformat_minor": 2
}
